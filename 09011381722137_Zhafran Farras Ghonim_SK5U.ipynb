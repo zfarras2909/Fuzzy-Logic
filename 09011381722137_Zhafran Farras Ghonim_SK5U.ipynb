{
 "cells": [
  {
   "cell_type": "markdown",
   "metadata": {},
   "source": [
    "# Nama = Zhafran Farras Ghonim \n",
    "# NIM    = 09011381722137\n",
    "# SK.5U (Kecerdasan Buatan)\n"
   ]
  },
  {
   "cell_type": "markdown",
   "metadata": {},
   "source": [
    "# Implementasi Logika Fuzzy Mamdani Dalam Game Simulasi Memancing "
   ]
  },
  {
   "cell_type": "markdown",
   "metadata": {},
   "source": [
    "### Logika Fuzzy\n",
    "Fuzzy menurut bahasa artinya samar atau kabur. Suatu kata atau istilah dikatakan kabur apabila kata atau istilah tersebut tidak dapat didefinisikan secara tegas, dalam arti tidak dapat ditentukan secara tegas (benar atau salah) apakah suatu obyek tertentu memiliki ciri atau sifat yang diungkapkan oleh kata itu atau tidak. Logika fuzzy berarti perkiraan penalaran, informasi granulasi, komputasi dengan kata-kata dan sebagainya.\n",
    "\n",
    "### Sistem Inferensi Fuzzy Mamdani\n",
    "Sistem inferensi fuzzy metode Mamdani merupakan sistem inferensi yang sering digunakan. Sistem inferensi fuzzy dengan menggunakan metode Mamdani sering disebut dengan metode max-min. \n",
    "\n",
    "Game simulasi memancing merupakan sebuah permainan yang menirukan kegiatan memancing. Game simulasi memancing terlihat menarik apabila game tersebut benar-benar mempresentasikan kejadian nyata secara detail. Untuk memenuhi hal tersebut, game memancing dapat disisipkan hal-hal yang berkaitan dengan habitat dan perilaku ikan yang ada didunia nyata. Perilaku ikan berupa waktu makan ikan dan kedalaman air. Penelitian ini bertujuan untuk mencari suatu model yang dapat digunakan dalam menentukan suatu jenis ikan berdasarkan habitat dan perilaku ikan. "
   ]
  },
  {
   "cell_type": "code",
   "execution_count": 4,
   "metadata": {},
   "outputs": [],
   "source": [
    "import numpy as np\n",
    "import skfuzzy as fuzz\n",
    "from skfuzzy import control as ctrl\n",
    "import matplotlib.pyplot as plt"
   ]
  },
  {
   "cell_type": "markdown",
   "metadata": {},
   "source": [
    "Fungsi Import adalah memanggil file lain kedalam satu file yang berbeda.\n",
    "\n",
    "Numpy merupakan salah satu library yang digunakan oleh library lain seperti Scikit-Learn untuk keperluan analisis data.\n",
    "\n",
    "skfuzzy atau scikit fuzzy adalah kumpulan algoritma logika Fuzzy yang digunakan dalam SciPy Stack, ditulis dalam bahasa komputasi Python.\n",
    "\n",
    "Matplotlib adalah library paling banyak digunakan oleh data science untuk menyajikan datanya ke dalam visual yang lebih baik.\n"
   ]
  },
  {
   "cell_type": "markdown",
   "metadata": {},
   "source": [
    "## Fuzzifikasi"
   ]
  },
  {
   "cell_type": "code",
   "execution_count": 5,
   "metadata": {},
   "outputs": [],
   "source": [
    "Kedalaman_Kail = ctrl.Antecedent(np.arange(1, 900, 1), 'Kedalaman Kail')\n",
    "Kedalaman_x = np.arange(1, 900, 1) "
   ]
  },
  {
   "cell_type": "code",
   "execution_count": 6,
   "metadata": {},
   "outputs": [],
   "source": [
    "Jam_Pemancingan = ctrl.Antecedent(np.arange(1, 1440, 1), 'Jam Pemancingan')\n",
    "Jam_x = np.arange(1, 1440, 1)"
   ]
  },
  {
   "cell_type": "code",
   "execution_count": 7,
   "metadata": {},
   "outputs": [],
   "source": [
    "Ikan = ctrl.Consequent(np.arange(1, 100, 1), 'Ikan')\n",
    "Ikan_x = np.arange(1,100,1)"
   ]
  },
  {
   "cell_type": "markdown",
   "metadata": {},
   "source": [
    "Disini saya memakai logika fuzzy dalam game simulasi memancing, diatas adalah sebuah code yang berfungsi untuk menentukan Input 1, Input 2, dan Output. cara menentukan input adalah dengan mengetikkan perintah \"ctrl.Antecedent\". dan cara menetukan output dengan mengetikkan perintah \"ctrl.Consequent\".\n",
    "Antecedent adalah variabel input/sensor. \n",
    "\n",
    "Consequent adalah Variabel ouput/control.\n",
    "\n",
    "- Input 1 : Kedalaman Kail\n",
    "- Input 2 : Jam Pemancingan\n",
    "- Output  : Ikan\n"
   ]
  },
  {
   "cell_type": "markdown",
   "metadata": {},
   "source": [
    "### Fuzzifikasi Kedalaman Kail"
   ]
  },
  {
   "cell_type": "markdown",
   "metadata": {},
   "source": [
    "Untuk Kedalaman kail, fungsi keanggotaan dibagi menjadi 3 bagian :\n",
    "$$ Kedalaman\\,Kail$$\n",
    "$$ Dangkal = 100 CM - 400 CM$$\n",
    "$$ Sedang = 400 CM - 700 CM$$\n",
    "$$ Dalam = 700 CM - Lebih$$\n",
    "\n",
    "Dari data tersebut maka dibuatlah variabel kedalaman dengan semesta pembiraan [0-900],  dan dibagi menjadi 3 himpunan fuzzy yaitu [DANGKAL, SEDANG, DALAM]. Tiap himpunan fuzzy memiliki domain masing-masing. Variabel kedalaman kail pancing diukur dengan satuan sentimeter, yang domain nya antara 0 sampai 900. 100-400 sentimeter termasuk dangkal, 400-700 sentimeter termasuk sedang, dan 700 sentimeter lebih termasuk dalam."
   ]
  },
  {
   "cell_type": "markdown",
   "metadata": {},
   "source": [
    "\n",
    "Dengan fungsi keanggotaan Kedalaman Kail\n",
    "\n",
    "\\begin{equation}\n",
    "  \\mu Dangkal(Kedalaman)=\\begin{cases}\n",
    "    \\frac{(500 - Kedalaman)}{(500)} &,\\text{$0\\leq Kedalaman\\leq500$}.\\\\ \n",
    "    0 &,\\text{$500 \\leq Kedalaman$}.\\\\\n",
    "  \\end{cases}\n",
    "  \\\\\n",
    "  \\mu Sedang(Kedalaman)=\\begin{cases}\n",
    "    \\frac {(Kedalaman - 200)}{(300)} & ,\\text{$ 200 \\leq$  Kedalaman $\\leq500$}.\\\\\n",
    "    \\frac{(800-Kedalaman)}{(300)} & ,\\text{$ 500 \\leq$ Kedalaman $\\leq800$}.\\\\\n",
    "    0  &, \\text{$200 \\geq$ Kedalamanan $ atau $ Kedalaman $\\geq800$}.\\\\ \n",
    "  \\end{cases} \n",
    "  \\\\\n",
    "  \\mu Dalam(Kedalaman)=\\begin{cases}\n",
    "    \\frac{(Kedalaman-500)}{(400)} & ,\\text{$ 500 \\leq$ Kedalaman $\\leq900$}.\\\\\n",
    "    0 &, \\text{$500 \\geq$ Kedalaman}.\\\\\n",
    "  \\end{cases}\n",
    "\\end{equation}\n",
    "\n"
   ]
  },
  {
   "cell_type": "code",
   "execution_count": 8,
   "metadata": {},
   "outputs": [],
   "source": [
    "Kedalaman_Kail['Dangkal'] = fuzz.trimf(Kedalaman_Kail.universe, [0, 1, 500])\n",
    "Kedalaman_Kail['Sedang'] = fuzz.trimf(Kedalaman_Kail.universe, [200, 500, 800])\n",
    "Kedalaman_Kail['Dalam'] = fuzz.trimf(Kedalaman_Kail.universe, [500, 900, 900])"
   ]
  },
  {
   "cell_type": "markdown",
   "metadata": {},
   "source": [
    "#### PLOTTING MEMBERSHIP FUNCTION KEDALAMAN KAIL"
   ]
  },
  {
   "cell_type": "markdown",
   "metadata": {},
   "source": [
    "Plotting fungsi keanggotaan $\\mu Dangkal(x)$"
   ]
  },
  {
   "cell_type": "code",
   "execution_count": 9,
   "metadata": {},
   "outputs": [
    {
     "data": {
      "text/plain": [
       "Text(0.5,1,'Dangkal')"
      ]
     },
     "execution_count": 9,
     "metadata": {},
     "output_type": "execute_result"
    },
    {
     "data": {
      "image/png": "[encoded data removed]",
      "text/plain": [
       "<Figure size 360x360 with 1 Axes>"
      ]
     },
     "metadata": {
      "needs_background": "light"
     },
     "output_type": "display_data"
    }
   ],
   "source": [
    "Kedalaman_Dangkal = fuzz.trimf(Kedalaman_x,[0,1,500])\n",
    "fig, (ax0) = plt.subplots(nrows=1,figsize=(5,5))\n",
    "ax0.plot(Kedalaman_x,Kedalaman_Dangkal,'blue')\n",
    "ax0.set_title('Dangkal')"
   ]
  },
  {
   "cell_type": "markdown",
   "metadata": {},
   "source": [
    "Plotting fungsi keanggotaan $\\mu Sedang(x)$"
   ]
  },
  {
   "cell_type": "code",
   "execution_count": 10,
   "metadata": {},
   "outputs": [
    {
     "data": {
      "text/plain": [
       "Text(0.5,1,'Sedang')"
      ]
     },
     "execution_count": 10,
     "metadata": {},
     "output_type": "execute_result"
    },
    {
     "data": {
      "image/png": "[encoded data removed]",
      "text/plain": [
       "<Figure size 360x360 with 1 Axes>"
      ]
     },
     "metadata": {
      "needs_background": "light"
     },
     "output_type": "display_data"
    }
   ],
   "source": [
    "Kedalaman_Sedang = fuzz.trimf(Kedalaman_x,[200, 500, 800])\n",
    "fig2, (ax1) = plt.subplots(nrows=1,figsize=(5,5))\n",
    "ax1.plot(Kedalaman_x,Kedalaman_Sedang,'orange')\n",
    "ax1.set_title('Sedang')"
   ]
  },
  {
   "cell_type": "markdown",
   "metadata": {},
   "source": [
    "Plotting fungsi keanggotaan $\\mu Dalam(x)$"
   ]
  },
  {
   "cell_type": "code",
   "execution_count": 11,
   "metadata": {},
   "outputs": [
    {
     "data": {
      "text/plain": [
       "Text(0.5,1,'Dalam')"
      ]
     },
     "execution_count": 11,
     "metadata": {},
     "output_type": "execute_result"
    },
    {
     "data": {
      "image/png": "[encoded data removed]",
      "text/plain": [
       "<Figure size 360x360 with 1 Axes>"
      ]
     },
     "metadata": {
      "needs_background": "light"
     },
     "output_type": "display_data"
    }
   ],
   "source": [
    "Kedalaman_Dalam = fuzz.trimf(Kedalaman_x,[500, 900, 900])\n",
    "fig3, (ax2) = plt.subplots(nrows=1,figsize=(5,5))\n",
    "ax2.plot(Kedalaman_x,Kedalaman_Dalam,'green')\n",
    "ax2.set_title('Dalam')"
   ]
  },
  {
   "cell_type": "markdown",
   "metadata": {},
   "source": [
    "Gabungkan ke tiga keanggotan diatas, dengan cara perintah x.view()"
   ]
  },
  {
   "cell_type": "code",
   "execution_count": 12,
   "metadata": {},
   "outputs": [
    {
     "name": "stderr",
     "output_type": "stream",
     "text": [
      "C:\\Users\\Zhafran\\Anaconda3\\lib\\site-packages\\matplotlib\\figure.py:457: UserWarning: matplotlib is currently using a non-GUI backend, so cannot show the figure\n",
      "  \"matplotlib is currently using a non-GUI backend, \"\n"
     ]
    },
    {
     "data": {
      "image/png": "[encoded data removed]",
      "text/plain": [
       "<Figure size 432x288 with 1 Axes>"
      ]
     },
     "metadata": {
      "needs_background": "light"
     },
     "output_type": "display_data"
    }
   ],
   "source": [
    "Kedalaman_Kail.view()"
   ]
  },
  {
   "cell_type": "markdown",
   "metadata": {},
   "source": [
    "DANGKAL mempunyai domain [0-500] yang digmbarkan sebagai kurva linier turun, \n",
    "\n",
    "SEDANG mempunyai domain [200-800] yang digambarkan sebagai kurva segitiga dengan titik puncak pada kedalaman 500, dan \n",
    "\n",
    "DALAM mempunyai domain [500-900] yang digambarkan sebagai kurva linier naik."
   ]
  },
  {
   "cell_type": "markdown",
   "metadata": {},
   "source": [
    "### Fuzzifikasi Jam Pemancingan"
   ]
  },
  {
   "cell_type": "markdown",
   "metadata": {},
   "source": [
    "Untuk Jam Pemancingan, fungsi keanggotaan dibagi menjadi 3 bagian :\n",
    "$$ Jam\\,Pemancingan$$\n",
    "$$ Malam = 0  - 600 menit$$\n",
    "$$ Siang = 120 - 1320 menit$$\n",
    "$$ Sore = 840 - 1440 menit$$\n",
    "\n",
    "Jam pemancingan diukur dalam satuan menit. Jika dalam satu jam terdapat 60 menit maka dalam satu hari terdapat 1440 menit. ikan [Diurnal] aktif antara jam [06.00-18.00] sedangkan ikan [Nokturnal] aktif pada jam [18.00-06.00]. Berdasarkan data tersebut berarti ikan diurnal aktif pada menit 360-1080, sedangkan nokturnal aktif pada menit 1080-1440 dan 0-360 dengan catatan menit 0 dimulai pada jam 00.00. Dari analisa tersebut maka dibuat variabel Jam pemancingan dengan semesta pembiraan [0-1440] dan dibagi menjadi 3 himpunan fuzzy yaitu [Malam, Siang, Sore]."
   ]
  },
  {
   "cell_type": "markdown",
   "metadata": {},
   "source": [
    "\n",
    "Dengan fungsi keanggotaan Jam Pemancingan\n",
    "\n",
    "\\begin{equation}\n",
    "  \\mu Malam(Jam)=\\begin{cases}\n",
    "    1 &, \\text{$ 0 \\leq$  Jam $\\leq 120$}.\\\\\n",
    "    \\frac{(600 - Jam)}{(480)} & ,\\text{$ 120 \\leq$  Jam $\\leq 600$}.\\\\\n",
    "    0 &,\\text{$jam\\leq 600$}.\\\\\n",
    "  \\end{cases}\n",
    "  \\\\\n",
    "  \\mu Siang(Jam)=\\begin{cases}\n",
    "    \\frac{(Jam - 120)}{(480)} &,\\text{$120\\leq Jam\\leq600$}.\\\\ \n",
    "    1 &,\\text{$600\\leq Jam \\leq840$}.\\\\\n",
    "    \\frac{(1320 - Jam)}{(480)} &,\\text{$840\\leq Jam\\leq1320$}.\\\\ \n",
    "    0 &,\\text{$120 \\geq Jam$ atau $\\leq1320$}.\\\\\n",
    "  \\end{cases}\n",
    "  \\\\\n",
    "  \\mu Sore(Jam)=\\begin{cases}\n",
    "    0& , \\text{$ Jam \\leq840$}.\\\\\n",
    "    \\frac{(Jam - 840)}{(480)} & ,\\text{$ 840 \\leq$ Jam $\\leq1440$}.\\\\\n",
    "    1 &, \\text{$Jam \\geq$ 1440}.\\\\\n",
    "  \\end{cases}\n",
    "\\end{equation}\n",
    "\n"
   ]
  },
  {
   "cell_type": "code",
   "execution_count": 13,
   "metadata": {},
   "outputs": [],
   "source": [
    "Jam_Pemancingan['Malam'] = fuzz.trapmf(Jam_Pemancingan.universe, [0, 1, 120, 600])\n",
    "Jam_Pemancingan['Siang'] = fuzz.trapmf(Jam_Pemancingan.universe, [120, 600, 840, 1320])\n",
    "Jam_Pemancingan['Sore'] = fuzz.trapmf(Jam_Pemancingan.universe, [840, 1320, 1440, 1440])"
   ]
  },
  {
   "cell_type": "markdown",
   "metadata": {},
   "source": [
    "#### PLOTTING MEMBERSHIP FUNCTION JAM PEMANCINGAN"
   ]
  },
  {
   "cell_type": "markdown",
   "metadata": {},
   "source": [
    "Plotting fungsi keanggotaan $\\mu Malam(x)$"
   ]
  },
  {
   "cell_type": "code",
   "execution_count": 14,
   "metadata": {},
   "outputs": [
    {
     "data": {
      "text/plain": [
       "Text(0.5,1,'Malam')"
      ]
     },
     "execution_count": 14,
     "metadata": {},
     "output_type": "execute_result"
    },
    {
     "data": {
      "image/png": "[encoded data removed]",
      "text/plain": [
       "<Figure size 360x360 with 1 Axes>"
      ]
     },
     "metadata": {
      "needs_background": "light"
     },
     "output_type": "display_data"
    }
   ],
   "source": [
    "Jam_Malam = fuzz.trapmf(Jam_x,[0,1,120,600])\n",
    "fig, (ax0) = plt.subplots(nrows=1,figsize=(5,5))\n",
    "ax0.plot(Jam_x,Jam_Malam,'blue')\n",
    "ax0.set_title('Malam')"
   ]
  },
  {
   "cell_type": "markdown",
   "metadata": {},
   "source": [
    "Plotting fungsi keanggotaan $\\mu Siang(x)$"
   ]
  },
  {
   "cell_type": "code",
   "execution_count": 15,
   "metadata": {},
   "outputs": [
    {
     "data": {
      "text/plain": [
       "Text(0.5,1,'Siang')"
      ]
     },
     "execution_count": 15,
     "metadata": {},
     "output_type": "execute_result"
    },
    {
     "data": {
      "image/png": "[encoded data removed]",
      "text/plain": [
       "<Figure size 360x360 with 1 Axes>"
      ]
     },
     "metadata": {
      "needs_background": "light"
     },
     "output_type": "display_data"
    }
   ],
   "source": [
    "Jam_Siang = fuzz.trapmf(Jam_x,[120,600,840,1320])\n",
    "fig2, (ax1) = plt.subplots(nrows=1,figsize=(5,5))\n",
    "ax1.plot(Jam_x,Jam_Siang,'orange')\n",
    "ax1.set_title('Siang')"
   ]
  },
  {
   "cell_type": "markdown",
   "metadata": {},
   "source": [
    "Plotting fungsi keanggotaan $\\mu Sore(x)$"
   ]
  },
  {
   "cell_type": "code",
   "execution_count": 16,
   "metadata": {},
   "outputs": [
    {
     "data": {
      "text/plain": [
       "Text(0.5,1,'Sore')"
      ]
     },
     "execution_count": 16,
     "metadata": {},
     "output_type": "execute_result"
    },
    {
     "data": {
      "image/png": "[encoded data removed]",
      "text/plain": [
       "<Figure size 360x360 with 1 Axes>"
      ]
     },
     "metadata": {
      "needs_background": "light"
     },
     "output_type": "display_data"
    }
   ],
   "source": [
    "Jam_Sore = fuzz.trapmf(Jam_x,[840, 1320, 1440, 1440])\n",
    "fig3, (ax2) = plt.subplots(nrows=1,figsize=(5,5))\n",
    "ax2.plot(Jam_x,Jam_Sore,'green')\n",
    "ax2.set_title('Sore')"
   ]
  },
  {
   "cell_type": "markdown",
   "metadata": {},
   "source": [
    "Gabungkan ke tiga fungsi keanggotan diatas, dengan cara perintah x.view()"
   ]
  },
  {
   "cell_type": "code",
   "execution_count": 17,
   "metadata": {},
   "outputs": [
    {
     "name": "stderr",
     "output_type": "stream",
     "text": [
      "C:\\Users\\Zhafran\\Anaconda3\\lib\\site-packages\\matplotlib\\figure.py:457: UserWarning: matplotlib is currently using a non-GUI backend, so cannot show the figure\n",
      "  \"matplotlib is currently using a non-GUI backend, \"\n"
     ]
    },
    {
     "data": {
      "image/png": "[encoded data removed]",
      "text/plain": [
       "<Figure size 432x288 with 1 Axes>"
      ]
     },
     "metadata": {
      "needs_background": "light"
     },
     "output_type": "display_data"
    }
   ],
   "source": [
    "Jam_Pemancingan.view()"
   ]
  },
  {
   "cell_type": "markdown",
   "metadata": {},
   "source": [
    "Himpunan fuzzy SIANG memiliki domain [120-1320] dan direpresentasikan sebagai kurva trapesium, dengan waktu interval [120-600] sebagai kurva linier naik, interval [600-840] kurva linier lurus dengan nilai keanggotaan 1, dan interval [840-1320] sebagai kurva linier turun. \n",
    "\n",
    "Himpunan fuzzy MALAM memiliki domain [0-600] yang direpresentasikan sebagai kurva trapezium, dengan waktu interval [0-120] sebagai kurva linier lurus dengan nilai keanggotaan 1, interval [120-600] sebagai kurva linier turun, \n",
    "\n",
    "Himpunan fuzzy SORE memiliki domain [840-1440] yang direpresentasikan sebagai kurva trapezium, dengan waktu interval [1320-1440] sebagai kurva linier lurus dengan nilai keanggotaan 1, dan interval [820-1320] sebagai kurva linier naik."
   ]
  },
  {
   "cell_type": "markdown",
   "metadata": {},
   "source": [
    "### Fuzzifikasi Ikan"
   ]
  },
  {
   "cell_type": "markdown",
   "metadata": {},
   "source": [
    "Untuk Ikan, fungsi keanggotaan dibagi menjadi 2 bagian :\n",
    "$$ Ikan$$\n",
    "$$ Diurnal = 0  - 100$$\n",
    "$$ Nokturnal = 0 - 100$$\n",
    "\n",
    "Data ikan yang digunakan pada game ini yaitu 29 ikan yang terdiri dari 15 ikan diurnal dan 14 ikan nokturnal. Untuk mempermudah dalam penentuan ikan yang didapat maka nilai maksimal dari variabel ikan ini dibuat 100.sehingga variabel ikan yang didapat mempunyai semesta pembiraan [0-100] dan dibagi menjadi 2 himpunan fuzzy yaitu [DIURNAL, NOKTURNAL]."
   ]
  },
  {
   "cell_type": "markdown",
   "metadata": {},
   "source": [
    "\n",
    "Dengan fungsi keanggotaan Ikan\n",
    "\n",
    "\\begin{equation}\n",
    "  \\mu Diurnal(Ikan)=\\begin{cases}\n",
    "    \\frac{(100 - ikan)}{(100)} &,\\text{$0\\leq ikan\\leq100$}.\\\\ \n",
    "  \\end{cases}\n",
    "  \\\\\n",
    "  \\mu Nokturnal(Ikan)=\\begin{cases}\n",
    "    \\frac{(ikan)}{(100)} & ,\\text{$0 \\leq$ ikan $\\leq 100$}.\\\\\n",
    "  \\end{cases}\n",
    "\\end{equation}\n",
    "\n"
   ]
  },
  {
   "cell_type": "code",
   "execution_count": 18,
   "metadata": {},
   "outputs": [],
   "source": [
    "Ikan['Diurnal'] = fuzz.trimf(Ikan.universe, [ 0, 1, 100])\n",
    "Ikan['Nokturnal'] = fuzz.trimf(Ikan.universe, [1, 100, 100])"
   ]
  },
  {
   "cell_type": "markdown",
   "metadata": {},
   "source": [
    "#### PLOTTING MEMBERSHIP FUNCTION IKAN"
   ]
  },
  {
   "cell_type": "markdown",
   "metadata": {},
   "source": [
    "Plotting fungsi keanggotaan $\\mu Durnal(x)$"
   ]
  },
  {
   "cell_type": "code",
   "execution_count": 19,
   "metadata": {},
   "outputs": [
    {
     "data": {
      "text/plain": [
       "Text(0.5,1,'Diurnal')"
      ]
     },
     "execution_count": 19,
     "metadata": {},
     "output_type": "execute_result"
    },
    {
     "data": {
      "image/png": "[encoded data removed]",
      "text/plain": [
       "<Figure size 360x360 with 1 Axes>"
      ]
     },
     "metadata": {
      "needs_background": "light"
     },
     "output_type": "display_data"
    }
   ],
   "source": [
    "Ikan_Diurnal = fuzz.trimf(Ikan_x,[0,1,100,])\n",
    "fig, (ax0) = plt.subplots(nrows=1,figsize=(5,5))\n",
    "ax0.plot(Ikan_x,Ikan_Diurnal,'blue')\n",
    "ax0.set_title('Diurnal')"
   ]
  },
  {
   "cell_type": "markdown",
   "metadata": {},
   "source": [
    "Plotting fungsi keanggotaan $\\mu Nokturnal(x)$"
   ]
  },
  {
   "cell_type": "code",
   "execution_count": 20,
   "metadata": {},
   "outputs": [
    {
     "data": {
      "text/plain": [
       "Text(0.5,1,'Nokturnal')"
      ]
     },
     "execution_count": 20,
     "metadata": {},
     "output_type": "execute_result"
    },
    {
     "data": {
      "image/png": "[encoded data removed]",
      "text/plain": [
       "<Figure size 360x360 with 1 Axes>"
      ]
     },
     "metadata": {
      "needs_background": "light"
     },
     "output_type": "display_data"
    }
   ],
   "source": [
    "Ikan_Nokturnal = fuzz.trimf(Ikan_x,[1,100,100,])\n",
    "fig2, (ax1) = plt.subplots(nrows=1,figsize=(5,5))\n",
    "ax1.plot(Ikan_x,Ikan_Nokturnal,'orange')\n",
    "ax1.set_title('Nokturnal')"
   ]
  },
  {
   "cell_type": "markdown",
   "metadata": {},
   "source": [
    "Gabungkan ke tiga fungsi keanggotaan, dengan cara perintah x.view()"
   ]
  },
  {
   "cell_type": "code",
   "execution_count": 21,
   "metadata": {},
   "outputs": [
    {
     "name": "stderr",
     "output_type": "stream",
     "text": [
      "C:\\Users\\Zhafran\\Anaconda3\\lib\\site-packages\\matplotlib\\figure.py:457: UserWarning: matplotlib is currently using a non-GUI backend, so cannot show the figure\n",
      "  \"matplotlib is currently using a non-GUI backend, \"\n"
     ]
    },
    {
     "data": {
      "image/png": "[encoded data removed]",
      "text/plain": [
       "<Figure size 432x288 with 1 Axes>"
      ]
     },
     "metadata": {
      "needs_background": "light"
     },
     "output_type": "display_data"
    }
   ],
   "source": [
    "Ikan.view()"
   ]
  },
  {
   "cell_type": "markdown",
   "metadata": {},
   "source": [
    "Himpunan fuzzy DIURNAL memiliki domain [0-100] yang direpresentasikan sebagai kurva linier turun.\n",
    "\n",
    "Himpunan fuzzy NOKTURNAL memiliki domain [0-100] yang direpresentasikan sebagai kurva linier naik"
   ]
  },
  {
   "cell_type": "markdown",
   "metadata": {},
   "source": [
    "###### ================================================================================================================="
   ]
  },
  {
   "cell_type": "markdown",
   "metadata": {},
   "source": [
    "## Rule Base\n",
    "Fuzzy rule base berisi pernyataan-pernyataan logika fuzzy (fuzzy statement), yang berbentuk pernyataan IF-THEN. Setelah dilakukan fuzzifikasi untuk setiap masukan dan keluaran, maka langkah berikutnya yaitu membuat aturan (rule base). Rule base ini terdiri dari kumpulan aturan yang berbasis logika fuzzy untuk menyatakan suatu kondisi. penyusunan rule base sangat berpengaruh pada presisi model, pada tahap pengambilan keputusan ditentukan berdasarkan rancangan rule base. aturan If-then yang dihubungkan dengan logika operasi AND dan OR."
   ]
  },
  {
   "cell_type": "markdown",
   "metadata": {},
   "source": [
    "Dibawah adalah perintah ctrl.rule() yang bertujuan untuk memasukan aturan aturan, disini teridiri dari 9 rule (aturan).\n",
    "\n",
    "rule 1 = Jika kedalaman kail \"Dangkal\" dan jam \"Siang\" maka ikan yang didapat adalah \"Diurnal\"\n",
    "\n",
    "rule 2 = Jika kedalaman kail \"Dangkal\" dan jam \"Malam\" maka ikan yang didapat adalah \"Nokturnal\"\n",
    "\n",
    "rule 3 = Jika kedalaman kail \"Dangkal\" dan jam \"Sore\" maka ikan yang didapat adalah \"Diurnal\"\n",
    "\n",
    "rule 4 = Jika kedalaman kail \"Sedang\" dan jam \"Siang\" maka ikan yang didapat adalah \"Diurnal\"\n",
    "\n",
    "rule 5 = Jika kedalaman kail \"Sedang\" dan jam \"Malam\" maka ikan yang didapat adalah \"Nokturnal\"\n",
    "\n",
    "rule 6 = Jika kedalaman kail \"Sedang\" dan jam \"Sore\" maka ikan yang didapat adalah \"Nokturnal\"\n",
    "\n",
    "rule 7 = Jika kedalaman kail \"Dalam\" dan jam \"Siang\" maka ikan yang didapat adalah \"Diurnal\"\n",
    "\n",
    "rule 8 = Jika kedalaman kail \"Dalam\" dan jam \"Malam\" maka ikan yang didapat adalah \"Nokturnal\"\n",
    "\n",
    "rule 9 = Jika kedalaman kail \"Dalam\" dan jam \"Sore\" maka ikan yang didapat adalah \"Nokturnal\""
   ]
  },
  {
   "cell_type": "code",
   "execution_count": 22,
   "metadata": {},
   "outputs": [],
   "source": [
    "rule1 = ctrl.Rule(Kedalaman_Kail['Dangkal'] & Jam_Pemancingan['Siang'], Ikan['Diurnal'])\n",
    "rule2 = ctrl.Rule(Kedalaman_Kail['Dangkal'] & Jam_Pemancingan['Malam'], Ikan['Nokturnal'])\n",
    "rule3 = ctrl.Rule(Kedalaman_Kail['Dangkal'] & Jam_Pemancingan['Sore'], Ikan['Diurnal'])\n",
    "rule4 = ctrl.Rule(Kedalaman_Kail['Sedang'] & Jam_Pemancingan['Siang'], Ikan['Diurnal'])\n",
    "rule5 = ctrl.Rule(Kedalaman_Kail['Sedang'] & Jam_Pemancingan['Malam'], Ikan['Nokturnal'])\n",
    "rule6 = ctrl.Rule(Kedalaman_Kail['Sedang'] & Jam_Pemancingan['Sore'], Ikan['Nokturnal'])\n",
    "rule7 = ctrl.Rule(Kedalaman_Kail['Dalam'] & Jam_Pemancingan['Siang'], Ikan['Diurnal'])\n",
    "rule8 = ctrl.Rule(Kedalaman_Kail['Dalam'] & Jam_Pemancingan['Malam'], Ikan['Nokturnal'])\n",
    "rule9 = ctrl.Rule(Kedalaman_Kail['Dalam'] & Jam_Pemancingan['Sore'], Ikan['Nokturnal'])"
   ]
  },
  {
   "cell_type": "markdown",
   "metadata": {},
   "source": [
    "## Rule Evaluation"
   ]
  },
  {
   "cell_type": "code",
   "execution_count": 23,
   "metadata": {},
   "outputs": [],
   "source": [
    "pemancing_ctrl = ctrl.ControlSystem([rule1, rule2, rule3, rule4, rule5, rule6, rule7, rule8, rule9])"
   ]
  },
  {
   "cell_type": "markdown",
   "metadata": {},
   "source": [
    "pada perintah ctrl.controlsystem() adalah, sebuah perintah untuk memasukan semua rule yang diatas, \n",
    "\n",
    "lalu untuk mengakulasi rule rule yang diatas dengan cara ketikan perintah ctrl.controlsystemsimulation. "
   ]
  },
  {
   "cell_type": "code",
   "execution_count": 24,
   "metadata": {},
   "outputs": [],
   "source": [
    "pemancing = ctrl.ControlSystemSimulation(pemancing_ctrl)"
   ]
  },
  {
   "cell_type": "markdown",
   "metadata": {},
   "source": [
    "## Defuzzifikasi"
   ]
  },
  {
   "cell_type": "code",
   "execution_count": 25,
   "metadata": {},
   "outputs": [],
   "source": [
    "pemancing.input['Kedalaman Kail'] = 660\n",
    "pemancing.input['Jam Pemancingan'] = 360"
   ]
  },
  {
   "cell_type": "markdown",
   "metadata": {},
   "source": [
    "Input kedalaman Kail 700 Meter dan, \n",
    "\n",
    "Input Jam pemancingan 900 Menit"
   ]
  },
  {
   "cell_type": "code",
   "execution_count": 26,
   "metadata": {},
   "outputs": [],
   "source": [
    "pemancing.compute()"
   ]
  },
  {
   "cell_type": "markdown",
   "metadata": {},
   "source": [
    "Mengeluarkan hasil defazzifikasi"
   ]
  },
  {
   "cell_type": "code",
   "execution_count": 27,
   "metadata": {},
   "outputs": [
    {
     "name": "stdout",
     "output_type": "stream",
     "text": [
      "49.99999999999999\n"
     ]
    }
   ],
   "source": [
    "print(pemancing.output['Ikan'])"
   ]
  },
  {
   "cell_type": "markdown",
   "metadata": {},
   "source": [
    "Hasil perhitungan dari computer adalah 49.99"
   ]
  },
  {
   "cell_type": "code",
   "execution_count": 31,
   "metadata": {},
   "outputs": [
    {
     "name": "stderr",
     "output_type": "stream",
     "text": [
      "C:\\Users\\Zhafran\\Anaconda3\\lib\\site-packages\\matplotlib\\figure.py:457: UserWarning: matplotlib is currently using a non-GUI backend, so cannot show the figure\n",
      "  \"matplotlib is currently using a non-GUI backend, \"\n"
     ]
    },
    {
     "data": {
      "image/png": "[encoded data removed]",
      "text/plain": [
       "<Figure size 432x288 with 1 Axes>"
      ]
     },
     "metadata": {
      "needs_background": "light"
     },
     "output_type": "display_data"
    }
   ],
   "source": [
    "Kedalaman_Kail.view(sim=pemancing)"
   ]
  },
  {
   "cell_type": "code",
   "execution_count": 32,
   "metadata": {},
   "outputs": [
    {
     "name": "stderr",
     "output_type": "stream",
     "text": [
      "C:\\Users\\Zhafran\\Anaconda3\\lib\\site-packages\\matplotlib\\figure.py:457: UserWarning: matplotlib is currently using a non-GUI backend, so cannot show the figure\n",
      "  \"matplotlib is currently using a non-GUI backend, \"\n"
     ]
    },
    {
     "data": {
      "image/png": "[encoded data removed]",
      "text/plain": [
       "<Figure size 432x288 with 1 Axes>"
      ]
     },
     "metadata": {
      "needs_background": "light"
     },
     "output_type": "display_data"
    }
   ],
   "source": [
    "Jam_Pemancingan.view(sim=pemancing)"
   ]
  },
  {
   "cell_type": "code",
   "execution_count": 33,
   "metadata": {},
   "outputs": [
    {
     "name": "stderr",
     "output_type": "stream",
     "text": [
      "C:\\Users\\Zhafran\\Anaconda3\\lib\\site-packages\\matplotlib\\figure.py:457: UserWarning: matplotlib is currently using a non-GUI backend, so cannot show the figure\n",
      "  \"matplotlib is currently using a non-GUI backend, \"\n"
     ]
    },
    {
     "data": {
      "image/png": "[encoded data removed]",
      "text/plain": [
       "<Figure size 432x288 with 1 Axes>"
      ]
     },
     "metadata": {
      "needs_background": "light"
     },
     "output_type": "display_data"
    }
   ],
   "source": [
    "Ikan.view(sim=pemancing)"
   ]
  },
  {
   "cell_type": "markdown",
   "metadata": {},
   "source": [
    "## Perhitungan Manual"
   ]
  },
  {
   "cell_type": "markdown",
   "metadata": {},
   "source": [
    "#### Kedalaman Kail"
   ]
  },
  {
   "cell_type": "markdown",
   "metadata": {},
   "source": [
    "\\begin{equation}\n",
    "    Kedalaman\\,Kail = 600 \\\\\n",
    "  \\mu Dangkal(Kedalaman)=\\begin{cases}\n",
    "    \\frac{(500 - Kedalaman)}{(500)} &,\\text{$0\\leq Kedalaman\\leq500$}.\\\\ \n",
    "    0 &,\\text{$500 \\leq Kedalaman$}.\\\\\n",
    "  \\end{cases}\n",
    "  \\\\\n",
    "  \\mu Sedang(Kedalaman)=\\begin{cases}\n",
    "    \\frac{(Kedalaman - 200)}{(300)} & ,\\text{$ 200 \\leq$  Kedalaman $\\leq500$}.\\\\\n",
    "    \\frac{(800-600)}{(300)} & ,\\text{$ 500 \\leq$ Kedalaman $\\leq800$}.\\\\\n",
    "    0  &, \\text{$200 \\geq$ Kedalamanan $ atau $ Kedalaman $\\geq800$}.\\\\ \n",
    "  \\end{cases} \n",
    "  \\\\\n",
    "  \\mu Dalam(Kedalaman)=\\begin{cases}\n",
    "    \\frac{(600-500)}{(400)} & ,\\text{$ 500 \\leq$ Kedalaman $\\leq900$}.\\\\\n",
    "    0 &, \\text{$500 \\geq$ Kedalaman}.\\\\\n",
    "  \\end{cases}\n",
    "\\end{equation}\n",
    "\n"
   ]
  },
  {
   "cell_type": "markdown",
   "metadata": {},
   "source": [
    "\\begin{equation}\n",
    "    \\mu KedalamanSedang\\,(600) = \\frac{(800 - 600)}{(300)}\\\\\n",
    "    \\mu KedalamanSedang\\,(600) = \\frac{200}{300} \\\\ \n",
    "    \\mu KedalamanSedang\\,(600) = 0.66 \\\\\n",
    "    \\mu KedalamanDalam\\,(600) = \\frac{(600 - 500)}{(400)} \\\\\n",
    "    \\mu KedalamanDalam\\,(600) = \\frac{100}{400} \\\\\n",
    "    \\mu KedalamanDalam\\,(600) = 0.25 \\\\\n",
    "\\end{equation}"
   ]
  },
  {
   "cell_type": "markdown",
   "metadata": {},
   "source": [
    "#### Jam Pemancingan"
   ]
  },
  {
   "cell_type": "markdown",
   "metadata": {},
   "source": [
    "\\begin{equation}\n",
    "    Jam\\,Pemancingan = 360 \\\\\n",
    "  \\mu Siang(Jam)=\\begin{cases}\n",
    "    \\frac{(360 - 120)}{(480)} &,\\text{$120\\leq Jam\\leq600$}.\\\\ \n",
    "    1 &,\\text{$600\\leq Jam \\leq840$}.\\\\\n",
    "    \\frac{(1320 - Jam)}{(480)} &,\\text{$840\\leq Jam\\leq1320$}.\\\\ \n",
    "    0 &,\\text{$1320 \\leq Jam$ atau $\\leq1440$}.\\\\\n",
    "  \\end{cases}\n",
    "  \\\\\n",
    "  \\mu Malam(Jam)=\\begin{cases}\n",
    "    1 &, \\text{$ 0 \\leq$  Jam $\\leq 120$}.\\\\\n",
    "    \\frac{(600 - 360)}{(480)} & ,\\text{$ 120 \\leq$  Jam $\\leq 600$}.\\\\\n",
    "    0 &,\\text{$jam\\leq 600$}.\\\\\n",
    "  \\end{cases}\n",
    "  \\\\\n",
    "  \\mu Sore(Jam)=\\begin{cases}\n",
    "    0& , \\text{$ Jam \\leq840$}.\\\\\n",
    "    \\frac{(Jam - 840)}{(480)} & ,\\text{$ 840 \\leq$ Jam $\\leq 1440$}.\\\\\n",
    "    1 &, \\text{$Jam \\geq$ 1440}.\\\\\n",
    "  \\end{cases}\n",
    "\\end{equation}\n",
    "\n"
   ]
  },
  {
   "cell_type": "markdown",
   "metadata": {},
   "source": [
    "\\begin{equation}\n",
    "    \\mu JamSiang\\,(360) = \\frac{360 - 120)}{(480)} \\\\\n",
    "    \\mu JamSiang\\,(360) = \\frac{240}{480} \\\\ \n",
    "    \\mu JamSiang\\,(360) = 0.5 \\\\\n",
    "    \\mu JamMalam\\,(360) = \\frac{(600 - 360)}{(480)} \\\\\n",
    "    \\mu JamMalam\\,(360) = \\frac{240}{480} \\\\\n",
    "    \\mu JamMalam\\,(360) = 0.5 \\\\\n",
    "\\end{equation}"
   ]
  },
  {
   "cell_type": "markdown",
   "metadata": {},
   "source": [
    "Perhitungan $\\mu$ yang didapat untuk fungsi keanggotaan Kedalaman Kail ada\n",
    "- $\\mu KedalamanSedang$ (800) = 0.66\n",
    "- $\\mu KedalamanDalam$ (800) = 0.25"
   ]
  },
  {
   "cell_type": "markdown",
   "metadata": {},
   "source": [
    "Perhitungan $\\mu$ yang didapat untuk fungsi keanggotaan Jam Pemancingan adalah\n",
    "- $\\mu JamSiang$ (900) = 0.5\n",
    "- $\\mu JamMalam$ (600) = 0.5"
   ]
  },
  {
   "cell_type": "markdown",
   "metadata": {},
   "source": [
    "##### Rule 1. Jika kedalaman kail \"Dangkal\" dan jam \"Siang\" maka ikan yang didapat adalah \"Diurnal\"\n",
    "\n",
    "$$ \\\\ \\alpha(predikat_1) = \\mu KedalamanDangkal \\cap \\mu JamSiang $$\n",
    "$$\\alpha(predikat_1)   = min (\\mu KedalamanDangkal[600], \\mu JamSiang[360]) $$\n",
    "$$ \\alpha(predikat_1) = min (0; 0.5) $$\n",
    "$$ \\alpha(predikat_1) = 0 $$\n",
    "\n",
    "\n",
    "$$\n",
    "   Ikan[Diurnal] = \\mu(x)=\\begin{cases}\n",
    "    \\frac{(100 - ikan)}{(100)} &,\\text{$0\\leq ikan\\leq100$}.\\\\ \n",
    "  \\end{cases}\n",
    " $$\n",
    "Maka nilai $ Z_1 = 0 $"
   ]
  },
  {
   "cell_type": "markdown",
   "metadata": {},
   "source": [
    "###### Rule 2. Jika kedalaman kail \"Dangkal\" dan jam \"Malam\" maka ikan yang didapat adalah \"Nokturnal\"\n",
    "$$ \\\\ \\alpha(predikat_1) = \\mu KedalamanDangkal \\cap \\mu JamMalam $$\n",
    "$$\\alpha(predikat_1)   = min (\\mu KedalamanDangkal[600], \\mu JamMalam[360]) $$\n",
    "$$ \\alpha(predikat_1) = min (0; 0.5) $$\n",
    "$$ \\alpha(predikat_1) = 0 $$\n",
    "\n",
    "\n",
    "$$\n",
    "   Ikan[Nokturnal] = \\mu(x)=\\begin{cases}\n",
    "    \\frac{(ikan)}{(100)} & ,\\text{$0 \\leq$ ikan $\\leq 100$}.\\\\\n",
    "  \\end{cases}\n",
    " $$\n",
    "Maka nilai $ Z_2 = 0 $"
   ]
  },
  {
   "cell_type": "markdown",
   "metadata": {},
   "source": [
    "###### Rule 3. Jika kedalaman kail \"Dangkal\" dan jam \"Sore\" maka ikan yang didapat adalah \"Diurnal\"\n",
    "\n",
    "$$ \\\\ \\alpha(predikat_1) = \\mu KedalamanDangkal \\cap \\mu JamSore $$\n",
    "$$\\alpha(predikat_1)   = min (\\mu KedalamanDangkal[600], \\mu JamSore[360]) $$\n",
    "$$ \\alpha(predikat_1) = min (0; 0) $$\n",
    "$$ \\alpha(predikat_1) = 0 $$\n",
    "\n",
    "\n",
    "$$\n",
    "   Ikan[Diurnal] = \\mu(x)=\\begin{cases}\n",
    "    \\frac{(100 - ikan)}{(100)} &,\\text{$0\\leq ikan\\leq100$}.\\\\ \n",
    "  \\end{cases}\n",
    " $$\n",
    "Maka nilai $ Z_3 = 0 $"
   ]
  },
  {
   "cell_type": "markdown",
   "metadata": {},
   "source": [
    "###### Rule 4. Jika kedalaman kail \"Sedang\" dan jam \"Siang\" maka ikan yang didapat adalah \"Diurnal\"\n",
    "\n",
    "$$ \\\\ \\alpha(predikat_1) = \\mu KedalamanSedang \\cap \\mu JamSiang $$\n",
    "$$\\alpha(predikat_1)   = min (\\mu KedalamanSedang[600], \\mu JamSiang[360]) $$\n",
    "$$ \\alpha(predikat_1) = min (0.66; 0.5) $$\n",
    "$$ \\alpha(predikat_1) = 0.5 $$\n",
    "\n",
    "\n",
    "$$\n",
    "   Ikan[Diurnal] = \\mu(x)=\\begin{cases}\n",
    "    \\frac{(100 - ikan)}{(100)} &,\\text{$0\\leq ikan\\leq100$}.\\\\ \n",
    "  \\end{cases}\n",
    "$$\n",
    "\n",
    "$$ \\frac{(100 - Ikan)}{(100)} = 0.5 $$\n",
    "$$ 100 - Ikan = 0.5 \\times 100 $$\n",
    "$$ 100 - Ikan =  50$$\n",
    "$$ Ikan = 50 - 100$$\n",
    "$$ -Ikan = -50 $$\n",
    "$$ Ikan = 50 $$\n",
    " \n",
    " \n",
    " \n",
    "Maka nilai $ Z_4 = 50 $"
   ]
  },
  {
   "cell_type": "markdown",
   "metadata": {},
   "source": [
    "###### Rule 5. Jika kedalaman kail \"Sedang\" dan jam \"Malam\" maka ikan yang didapat adalah \"Nokturnal\"\n",
    "\n",
    "$$ \\\\ \\alpha(predikat_1) = \\mu KedalamanSedang \\cap \\mu JamMalam $$\n",
    "$$\\alpha(predikat_1)   = min (\\mu KedalamanSedang[600], \\mu JamMalam[360]) $$\n",
    "$$ \\alpha(predikat_1) = min (0.66; 0.5) $$\n",
    "$$ \\alpha(predikat_1) = 0.5 $$\n",
    "\n",
    "\n",
    "$$\n",
    "   Ikan[Nokturnal] = \\mu(x)=\\begin{cases}\n",
    "    \\frac{(ikan)}{(100)} & ,\\text{$0 \\leq$ ikan $\\leq 100$}.\\\\ \n",
    "  \\end{cases}\n",
    "$$\n",
    "\n",
    "$$\\frac{(ikan)}{(100)} = 0.5$$\n",
    "$$ ikan = 0.5 \\times 100$$\n",
    "$$ ikan = 50\n",
    "\n",
    "Maka nilai $ Z_5 = 50 $"
   ]
  },
  {
   "cell_type": "markdown",
   "metadata": {},
   "source": [
    "###### Rule 6. Jika kedalaman kail \"Sedang\" dan jam \"Sore\" maka ikan yang didapat adalah \"Nokturnal\"\n",
    "\n",
    "$$ \\\\ \\alpha(predikat_1) = \\mu KedalamanSedang \\cap \\mu JamSore $$\n",
    "$$\\alpha(predikat_1)   = min (\\mu KedalamanSedang[600], \\mu JamSore[360]) $$\n",
    "$$ \\alpha(predikat_1) = min (0.66; 0) $$\n",
    "$$ \\alpha(predikat_1) = 0 $$\n",
    "\n",
    "\n",
    "$$\n",
    "   Ikan[Nokturnal] = \\mu(x)=\\begin{cases}\n",
    "    \\frac{(ikan)}{(100)} &,\\text{$0\\leq ikan\\leq100$}.\\\\ \n",
    "  \\end{cases}\n",
    "$$\n",
    "\n",
    "Maka nilai $ Z_6 = 0$"
   ]
  },
  {
   "cell_type": "markdown",
   "metadata": {},
   "source": [
    "###### Rule 7. Jika kedalaman kail \"Dalam\" dan jam \"Siang\" maka ikan yang didapat adalah \"Diurnal\"\n",
    "\n",
    "$$ \\\\ \\alpha(predikat_1) = \\mu KedalamanDalam \\cap \\mu JamSiang $$\n",
    "$$\\alpha(predikat_1)   = min (\\mu KedalamanDalam[600], \\mu JamSiang[360]) $$\n",
    "$$ \\alpha(predikat_1) = min (0.25; 0.5) $$\n",
    "$$ \\alpha(predikat_1) = 0.25 $$\n",
    "\n",
    "\n",
    "$$\n",
    "   Ikan[Diurnal] = \\mu(x)=\\begin{cases}\n",
    "    \\frac{(100 - ikan)}{(100)} &,\\text{$0\\leq ikan\\leq100$}.\\\\ \n",
    "  \\end{cases}\n",
    "$$\n",
    "\n",
    "$$ \\frac{(100 - Ikan)}{(100)} = 0.25 $$\n",
    "$$ 100 - Ikan = 0.25 \\times 100 $$\n",
    "$$ 100 - Ikan = 25 $$\n",
    "$$ Ikan = 25 - 100$$\n",
    "$$ -Ikan = -75 $$\n",
    "$$ Ikan = 75$$\n",
    " \n",
    " \n",
    " \n",
    "Maka nilai $ Z_7 = 75 $"
   ]
  },
  {
   "cell_type": "markdown",
   "metadata": {},
   "source": [
    "###### Rule 8. Jika kedalaman kail \"Dalam\" dan jam \"Malam\" maka ikan yang didapat adalah \"Nokturnal\"\n",
    "\n",
    "$$ \\\\ \\alpha(predikat_1) = \\mu KedalamanDalam \\cap \\mu JamMalam $$\n",
    "$$\\alpha(predikat_1)   = min (\\mu KedalamanDalam[600], \\mu JamMalam[360]) $$\n",
    "$$ \\alpha(predikat_1) = min (0.25; 0.5) $$\n",
    "$$ \\alpha(predikat_1) = 0.25 $$\n",
    "\n",
    "\n",
    "$$\n",
    "   Ikan[Nokturnal] = \\mu(x)=\\begin{cases}\n",
    "    \\frac{(ikan)}{(100)} &,\\text{$0\\leq ikan\\leq100$}.\\\\ \n",
    "  \\end{cases}\n",
    "$$\n",
    "\n",
    "$$\\frac{(ikan)}{(100)} = 0.25$$\n",
    "$$ ikan = 0.25 \\times 100$$\n",
    "$$ ikan = 25\n",
    "\n",
    "Maka nilai $ Z_8 = 25$"
   ]
  },
  {
   "cell_type": "markdown",
   "metadata": {},
   "source": [
    "###### Rule 9. Jika kedalaman kail \"Dalam\" dan jam \"Sore\" maka ikan yang didapat adalah \"Nokturnal\"\n",
    "\n",
    "$$ \\\\ \\alpha(predikat_1) = \\mu KedalamanDalam \\cap \\mu JamSore $$\n",
    "$$\\alpha(predikat_1)   = min (\\mu KedalamanDalam[600], \\mu JamSore[360]) $$\n",
    "$$ \\alpha(predikat_1) = min (0.25; 0) $$\n",
    "$$ \\alpha(predikat_1) = 0$$\n",
    "\n",
    "\n",
    "$$\n",
    "   Ikan[Nokturnal] = \\mu(x)=\\begin{cases}\n",
    "    \\frac{(ikan)}{(100)} &,\\text{$0\\leq ikan\\leq100$}.\\\\ \n",
    "  \\end{cases}\n",
    "$$\n",
    "\n",
    "Maka nilai $ Z_9 = 0$"
   ]
  },
  {
   "cell_type": "markdown",
   "metadata": {},
   "source": [
    "###### =================================================================================================================="
   ]
  },
  {
   "cell_type": "markdown",
   "metadata": {},
   "source": [
    "Z = $$ \\frac{\\alpha predikat_1 \\times Z_1 +\n",
    "\\alpha predikat_2 \\times Z_2 +\n",
    "\\alpha predikat_3 \\times Z_3 +\n",
    "\\alpha predikat_4 \\times Z_4 +\n",
    "\\alpha predikat_5 \\times Z_5 +\n",
    "\\alpha predikat_6 \\times Z_6 +\n",
    "\\alpha predikat_7 \\times Z_7 +\n",
    "\\alpha predikat_8 \\times Z_8 +\n",
    "\\alpha predikat_9 \\times Z_9 }\n",
    "{\\alpha predikat_1 + \\alpha predikat_2 +\n",
    "\\alpha predikat_3 + \\alpha predikat_4 +\n",
    "\\alpha predikat_5 + \\alpha predikat_6 +\n",
    "\\alpha predikat_7 + \\alpha predikat_8 +\n",
    "\\alpha predikat_9}$$"
   ]
  },
  {
   "cell_type": "markdown",
   "metadata": {},
   "source": [
    "$$Z_1 = 0 $$ \n",
    "$$Z_2 = 0 $$ \n",
    "$$Z_3 = 0 $$\n",
    "$$Z_4 = 50 $$\n",
    "$$Z_5 = 50 $$\n",
    "$$Z_6 = 0 $$\n",
    "$$Z_7 = 75 $$\n",
    "$$Z_8 = 25 $$\n",
    "$$Z_9 = 0 $$"
   ]
  },
  {
   "cell_type": "markdown",
   "metadata": {},
   "source": [
    "$$Z = \\frac{0 + 0 + 0 + 0.5 \\times 50 + 0.5 \\times 50 + 0  + 0.25 \\times 75 + 0.25 \\times 25 + 0 }{0 + 0 + 0 + 0.5 + 0.5 + 0 + 0.25 + 0.25 + 0} $$\n",
    " \n",
    " $$ Z = \\frac{25 + 25 + 18.75 + 6.25}{1.5} $$\n",
    " $$ Z = 50 $$"
   ]
  },
  {
   "cell_type": "markdown",
   "metadata": {},
   "source": [
    "Hasil dari perhitungan computer diatas adalah 49.99 yang jika memakai pembulatan makan menjadi 50. sedangkan hasil dari perhitungan manual adalah 50. selisih dari perhitungan manual dan computer adalah -0.01 atau 0. dan,\n",
    "\n",
    "\n",
    "$Nilai Errornya$\n",
    "$\\frac {(Hasil compute)-(Hasil Manual)}{(Hasil Compute)} \\times 100 ===== $\n",
    "$\\frac {(50)-(50)}{(50)} \\times 100$\n",
    "$=0$\n",
    "\n",
    "Data dari ikan yang digunakan di game ini yaitu 29, yang terdiri ikan diurnal 15 dan nokturnal 14. dan, berdasarkan hasil diatas yang kita dapat adalah 50. jadi kesempatan untuk menentukan ikan diurnal adalah 3.33 dan nokturnal adalah 3.5. dilihat dari data tersebut. maka, ikan nokturnal lah yang kemungkinan mudah didapat"
   ]
  }
 ],
 "metadata": {
  "kernelspec": {
   "display_name": "Python 3",
   "language": "python",
   "name": "python3"
  },
  "language_info": {
   "codemirror_mode": {
    "name": "ipython",
    "version": 3
   },
   "file_extension": ".py",
   "mimetype": "text/x-python",
   "name": "python",
   "nbconvert_exporter": "python",
   "pygments_lexer": "ipython3",
   "version": "3.7.0"
  }
 },
 "nbformat": 4,
 "nbformat_minor": 2
}
